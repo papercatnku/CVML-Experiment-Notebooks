{
 "cells": [
  {
   "cell_type": "markdown",
   "metadata": {
    "deletable": true,
    "editable": true
   },
   "source": [
    "# Fast and High Quality Highlight Removal from A Single Image "
   ]
  },
  {
   "cell_type": "code",
   "execution_count": null,
   "metadata": {
    "collapsed": false,
    "deletable": true,
    "editable": true
   },
   "outputs": [],
   "source": [
    "%matplotlib inline\n",
    "import cv2\n",
    "import numpy as np\n",
    "from matplotlib import pyplot as plt\n",
    "import scipy\n",
    "import scipy.cluster.hierarchy as sch\n",
    "from scipy.cluster.vq import vq,kmeans,kmeans2,whiten\n",
    "\n",
    "from math import sqrt\n",
    "\n",
    "def easyshow(src,title,ifcolorbar=True,cmap='gray'):\n",
    "    gci=plt.imshow(src,cmap=cmap)\n",
    "    plt.title(title)\n",
    "    if ifcolorbar:\n",
    "        plt.colorbar(gci)\n",
    "    plt.show()\n",
    "    return\n",
    "src_path = '/mnt/MEDIA/Projects/anti_reflection/cubic.jpg'\n",
    "\n",
    "src_img = cv2.imread(src_path)\n",
    "src_img = cv2.resize(src_img,None,fx=0.25, fy=0.25, interpolation = cv2.INTER_CUBIC)\n",
    "src_img = cv2.medianBlur(src_img,3)\n",
    "\n",
    "plt.imshow(cv2.cvtColor(src_img, cv2.COLOR_BGR2RGB))\n",
    "plt.show()\n",
    "\n",
    "srcimg_shape=src_img.shape"
   ]
  },
  {
   "cell_type": "markdown",
   "metadata": {
    "deletable": true,
    "editable": true
   },
   "source": [
    "## get L2 chromatic for material clustering"
   ]
  },
  {
   "cell_type": "code",
   "execution_count": null,
   "metadata": {
    "collapsed": false,
    "deletable": true,
    "editable": true
   },
   "outputs": [],
   "source": [
    "eps = 1e-5\n",
    "l2norm_img = np.sqrt(np.sum(np.square(src_img.astype(np.float32)),axis=2,keepdims=False))\n",
    "easyshow(l2norm_img,'l2-norm',True)\n",
    "\n",
    "l2normed_img = np.divide(src_img,eps + np.expand_dims(l2norm_img,axis=2))\n",
    "# assumpt that illumination is constantly white \n",
    "ill_l2vec = np.tile(sqrt(1.0/3.0),(3,))\n",
    "ill_l2img = np.tile(sqrt(1.0/3.0),srcimg_shape)\n",
    "\n",
    "l2normed_pixels = l2normed_img.reshape((srcimg_shape[0] * srcimg_shape[1] ,srcimg_shape[2]))\n",
    "parrall_coe = np.dot(l2normed_pixels,ill_l2vec.reshape(3,1)).clip(0,1)\n",
    "orthogonal_coe = np.sqrt(1-np.square(parrall_coe))\n",
    "easyshow(parrall_coe.reshape(srcimg_shape[:2]),'parrall_coe',True)\n",
    "easyshow(orthogonal_coe.reshape(srcimg_shape[:2]),'orthogonal_coe',True)\n",
    "\n",
    "gamma_orth_ini = l2normed_img - np.expand_dims(parrall_coe.reshape(srcimg_shape[:2])*sqrt(1.0/3.0),axis=2)\n",
    "gamma_orth_src = np.stack([gamma_orth_ini[:,:,i]/(eps + orthogonal_coe.reshape(srcimg_shape[:2])) for i in range(3)],axis=2)\n"
   ]
  },
  {
   "cell_type": "markdown",
   "metadata": {
    "deletable": true,
    "editable": true
   },
   "source": [
    "## material clustering "
   ]
  },
  {
   "cell_type": "code",
   "execution_count": null,
   "metadata": {
    "collapsed": false,
    "deletable": true,
    "editable": true
   },
   "outputs": [],
   "source": [
    "import time\n",
    "k_ini = 1\n",
    "k_max = 15\n",
    "out_circle_thr = 0.02\n",
    "out_circle_ratio_thr = 0.02\n",
    "def get_random_color():\n",
    "    return np.random.uniform(0,255,(3,)).astype(np.uint8)\n",
    "kmeans_res_4show = np.zeros_like(gamma_orth_src).astype(np.uint8)\n",
    "colors = [get_random_color() for i in range(k_max)]\n",
    "\n",
    "l2chromatic_pixels = gamma_orth_src.reshape((srcimg_shape[0] * srcimg_shape[1],srcimg_shape[2]))\n",
    "\n",
    "for k in range(k_ini,k_max):\n",
    "    tic = time.time()\n",
    "    while True:\n",
    "        try:\n",
    "            print 'tring to do %d-means clustering'%k\n",
    "            _tic = time.time()\n",
    "            centors,labels = kmeans2(l2chromatic_pixels, k, iter=50, thresh=1e-05, minit='points', missing='raise', check_finite=True)\n",
    "            _tac = time.time()\n",
    "            print '%d-means clustering cost %.3fs'%(k,_tac-_tic)\n",
    "        except all:\n",
    "            print 'error occur during kmeans'\n",
    "        else:\n",
    "            break\n",
    "    \n",
    "    # reproject to get coes, then compare total fitting error\n",
    "    centors_l2chromatic_pixels = np.array(map(lambda x:centors[x].tolist(),labels.tolist()))\n",
    "    # project to gamma_orth, gamma_par\n",
    "    gamma_orth = np.sum(centors_l2chromatic_pixels * l2normed_pixels,axis=1,keepdims=False)\n",
    "    gamma_par = np.sum(l2normed_pixels * np.sqrt(1.0/3.0),axis=1,keepdims=False)\n",
    "    \n",
    "    easyshow(abs(np.square(gamma_orth) + np.square(gamma_par) - 1.0).reshape(l2norm_img.shape),'fit error',True)\n",
    "\n",
    "#     easyshow(gamma_orth.reshape(l2norm_img.shape),'gamma_orth',True)    \n",
    "#     easyshow(gamma_par.reshape(l2norm_img.shape),'gamma_par',True)\n",
    "    \n",
    "# show kmeans result \n",
    "    \n",
    "    for i in range(l2chromatic_pixels.shape[0]):\n",
    "        row = i // srcimg_shape[1]\n",
    "        col = i % srcimg_shape[1]\n",
    "        kmeans_res_4show[row,col,:] = colors[labels[i]]\n",
    "    gci=plt.imshow(cv2.cvtColor((0.7*src_img.astype(kmeans_res_4show.dtype) + 0.3*kmeans_res_4show).astype(np.uint8), cv2.COLOR_BGR2RGB))\n",
    "    gci=plt.imshow(cv2.cvtColor(kmeans_res_4show.astype(np.uint8), cv2.COLOR_BGR2RGB))\n",
    "\n",
    "    plt.title('kmeans-%d'%k)\n",
    "    plt.show()\n",
    "    # end of show kmeans result\n",
    "    tf_err_num =np.count_nonzero(abs(np.square(gamma_orth) + np.square(gamma_par) - 1.0) > out_circle_thr)\n",
    "    ratio = float(tf_err_num) / float(gamma_orth.shape[0])\n",
    "    print '%d/%d pixels are not \"near\" circle, ratio is %f'%(tf_err_num,gamma_orth.shape[0],ratio)\n",
    "    tac = time.time()\n",
    "    print '%d-means clustering and analysis cost %fs'%(k,tac-tic)\n",
    "    if ratio < out_circle_ratio_thr:\n",
    "        break\n",
    "        \n",
    "print '%d custers found'%k"
   ]
  },
  {
   "cell_type": "markdown",
   "metadata": {
    "deletable": true,
    "editable": true
   },
   "source": [
    "## Diffuse Component Recovrering"
   ]
  },
  {
   "cell_type": "code",
   "execution_count": null,
   "metadata": {
    "collapsed": false,
    "deletable": true,
    "editable": true
   },
   "outputs": [],
   "source": [
    "# find pure diffuse pixels for each custer\n",
    "histbins = 64\n",
    "no_noise_ratio = 1.0/10.0\n",
    "ab_clusters = []\n",
    "for kc in range(k):\n",
    "    gamma_pixs = parrall_coe[labels==kc].ravel()\n",
    "    gamma_hist,binids = np.histogram(a=gamma_pixs+1e-6* np.random.random(gamma_pixs.shape), bins=histbins)\n",
    "    accum = gamma_hist[0]\n",
    "    accum_thr = int(len(gamma_pixs) * no_noise_ratio)\n",
    "    metratio_flag=False\n",
    "    selected_binid = histbins-1\n",
    "    # show hist\n",
    "    bins_mean = map(lambda x,y:(x+y)/2.0,binids[:histbins],binids[1:])\n",
    "    plt.stem(bins_mean, gamma_hist, linefmt='b-', markerfmt='bo', basefmt='r-')\n",
    "    plt.show()\n",
    "    for binid in range(1,histbins-1):\n",
    "        if not metratio_flag:\n",
    "            accum += gamma_hist[binid]\n",
    "            if accum > accum_thr:\n",
    "                metratio_flag = True\n",
    "        if metratio_flag:\n",
    "            if gamma_hist[binid-1] <gamma_hist[binid] and gamma_hist[binid] > gamma_hist[binid+1]:\n",
    "                selected_binid = binid\n",
    "                break                \n",
    "    # log            \n",
    "    print 'selected bin id is %d, average coe is %f'%(selected_binid,(binids[selected_binid]+binids[selected_binid+1])/2.0)\n",
    "    b = (binids[selected_binid]+binids[selected_binid+1]) / 2.0\n",
    "    a = sqrt(1-b**2)    \n",
    "    ab_clusters.append((a,b))    \n",
    "print ab_clusters"
   ]
  },
  {
   "cell_type": "code",
   "execution_count": null,
   "metadata": {
    "collapsed": false,
    "deletable": true,
    "editable": true
   },
   "outputs": [],
   "source": [
    "# \n",
    "reverted_lambda = np.zeros_like(gamma_orth_src)\n",
    "for i in range(l2chromatic_pixels.shape[0]):\n",
    "    row = i // srcimg_shape[1]\n",
    "    col = i % srcimg_shape[1]\n",
    "    a = ab_clusters[labels[i]][0]\n",
    "    b = ab_clusters[labels[i]][1]\n",
    "    \n",
    "    alpha = np.dot(gamma_orth_src[row,col,:],src_img[row,col,:]) / (a+eps)\n",
    "    \n",
    "    reverted_lambda[row,col,:] = alpha *(a * gamma_orth_src[row, col,:] + b * ill_l2vec) \n",
    "    "
   ]
  },
  {
   "cell_type": "code",
   "execution_count": null,
   "metadata": {
    "collapsed": false,
    "deletable": true,
    "editable": true
   },
   "outputs": [],
   "source": [
    "# print reverted_lambda\n",
    "easyshow(reverted_lambda[:,:,0],'reverted_lambda-0',True)\n",
    "easyshow(reverted_lambda[:,:,1],'reverted_lambda-1',True)\n",
    "easyshow(reverted_lambda[:,:,2],'reverted_lambda-2',True)\n"
   ]
  },
  {
   "cell_type": "code",
   "execution_count": null,
   "metadata": {
    "collapsed": false,
    "deletable": true,
    "editable": true
   },
   "outputs": [],
   "source": [
    "img = reverted_lambda.clip(0,255).astype(np.uint8)\n",
    "img = cv2.cvtColor(img,cv2.COLOR_BGR2RGB)\n",
    "\n",
    "plt.imshow(cv2.cvtColor(src_img, cv2.COLOR_BGR2RGB))\n",
    "plt.show()\n",
    "plt.imshow(img)\n",
    "plt.show()"
   ]
  },
  {
   "cell_type": "code",
   "execution_count": null,
   "metadata": {
    "collapsed": true,
    "deletable": true,
    "editable": true
   },
   "outputs": [],
   "source": []
  },
  {
   "cell_type": "code",
   "execution_count": null,
   "metadata": {
    "collapsed": false,
    "deletable": true,
    "editable": true
   },
   "outputs": [],
   "source": []
  }
 ],
 "metadata": {
  "kernelspec": {
   "display_name": "Python 2",
   "language": "python",
   "name": "python2"
  },
  "language_info": {
   "codemirror_mode": {
    "name": "ipython",
    "version": 2
   },
   "file_extension": ".py",
   "mimetype": "text/x-python",
   "name": "python",
   "nbconvert_exporter": "python",
   "pygments_lexer": "ipython2",
   "version": "2.7.12"
  }
 },
 "nbformat": 4,
 "nbformat_minor": 2
}
